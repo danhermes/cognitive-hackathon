{
  "cells": [
    {
      "metadata": {
        "collapsed": true
      },
      "cell_type": "markdown",
      "source": "# Spell Check Cognitive Service: Bing"
    },
    {
      "metadata": {},
      "cell_type": "markdown",
      "source": "Make your first call to the Bing Spell Check REST API. This simple Python application sends a request to the API and returns a list of suggested corrections. While this application is written in Python, the API is a RESTful Web service compatible with most programming languages. "
    },
    {
      "metadata": {},
      "cell_type": "markdown",
      "source": "First, add these import statements."
    },
    {
      "metadata": {
        "trusted": true
      },
      "cell_type": "code",
      "source": "import requests\nimport json",
      "execution_count": 1,
      "outputs": []
    },
    {
      "metadata": {},
      "cell_type": "markdown",
      "source": "Create variables for the text you want to spell check, your subscription key, and your Bing Spell Check endpoint."
    },
    {
      "metadata": {
        "trusted": true
      },
      "cell_type": "code",
      "source": "api_key = \"8efaeaa16d2a41ff88295ec713a4b878\"\nexample_text = \"Hollo, wrld\" # the text to be spell-checked\nendpoint = \"https://api.cognitive.microsoft.com/bing/v7.0/SpellCheck\"",
      "execution_count": 2,
      "outputs": []
    },
    {
      "metadata": {},
      "cell_type": "markdown",
      "source": "Create a new dictionary with text as the key, and your text as the value."
    },
    {
      "metadata": {
        "trusted": true
      },
      "cell_type": "code",
      "source": "data = {'text': example_text}",
      "execution_count": 3,
      "outputs": []
    },
    {
      "metadata": {},
      "cell_type": "markdown",
      "source": "Add the parameters for your request. Set the mkt parameter to your market, and mode to proof."
    },
    {
      "metadata": {
        "trusted": true
      },
      "cell_type": "code",
      "source": "params = {\n    'mkt':'en-us',\n    'mode':'proof'\n    }",
      "execution_count": 4,
      "outputs": []
    },
    {
      "metadata": {},
      "cell_type": "markdown",
      "source": "Add a Content-Type header, and your subscription key to the Ocp-Apim-Subscription-Key header."
    },
    {
      "metadata": {
        "trusted": true
      },
      "cell_type": "code",
      "source": "headers = {\n    'Content-Type': 'application/x-www-form-urlencoded',\n    'Ocp-Apim-Subscription-Key': api_key,\n    }",
      "execution_count": 5,
      "outputs": []
    },
    {
      "metadata": {},
      "cell_type": "markdown",
      "source": "Send the POST request using the requests library."
    },
    {
      "metadata": {
        "trusted": true
      },
      "cell_type": "code",
      "source": "response = requests.post(endpoint, headers=headers, params=params, data=data)",
      "execution_count": 6,
      "outputs": []
    },
    {
      "metadata": {},
      "cell_type": "markdown",
      "source": "Get the JSON response, and print it."
    },
    {
      "metadata": {
        "trusted": true
      },
      "cell_type": "code",
      "source": "json_response = response.json()\nprint(json.dumps(json_response, indent=4))",
      "execution_count": 7,
      "outputs": [
        {
          "output_type": "stream",
          "text": "{\n    \"_type\": \"SpellCheck\", \n    \"flaggedTokens\": [\n        {\n            \"suggestions\": [\n                {\n                    \"score\": 0.8792665947073375, \n                    \"suggestion\": \"Hello\"\n                }, \n                {\n                    \"score\": 0.8339142338790471, \n                    \"suggestion\": \"Hollow\"\n                }\n            ], \n            \"token\": \"Hollo\", \n            \"type\": \"UnknownToken\", \n            \"offset\": 0\n        }, \n        {\n            \"suggestions\": [\n                {\n                    \"score\": 0.8792665947073375, \n                    \"suggestion\": \"world\"\n                }\n            ], \n            \"token\": \"wrld\", \n            \"type\": \"UnknownToken\", \n            \"offset\": 7\n        }\n    ]\n}\n",
          "name": "stdout"
        }
      ]
    }
  ],
  "metadata": {
    "kernelspec": {
      "name": "python2",
      "display_name": "Python 2",
      "language": "python"
    },
    "language_info": {
      "mimetype": "text/x-python",
      "nbconvert_exporter": "python",
      "name": "python",
      "pygments_lexer": "ipython2",
      "version": "2.7.15",
      "file_extension": ".py",
      "codemirror_mode": {
        "version": 2,
        "name": "ipython"
      }
    }
  },
  "nbformat": 4,
  "nbformat_minor": 2
}