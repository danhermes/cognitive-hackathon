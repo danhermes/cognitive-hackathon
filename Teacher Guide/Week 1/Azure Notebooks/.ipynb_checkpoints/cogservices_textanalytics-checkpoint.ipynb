{
  "cells": [
    {
      "metadata": {},
      "cell_type": "markdown",
      "source": "# Text Analysis:\n## Forum moderation with cognitive services"
    },
    {
      "metadata": {
        "trusted": true
      },
      "cell_type": "code",
      "source": "import requests\n\nsubscription_key = '5cf0471cf8234518b8db1641fba738db'\ntext_analytics_base_url = \"https://westcentralus.api.cognitive.microsoft.com/text/analytics/v2.0\"",
      "execution_count": 24,
      "outputs": []
    },
    {
      "metadata": {},
      "cell_type": "markdown",
      "source": "## Sentiment analysis"
    },
    {
      "metadata": {
        "trusted": true
      },
      "cell_type": "code",
      "source": "sentiment_api_url = text_analytics_base_url + \"/sentiment\"\nprint(sentiment_api_url)",
      "execution_count": 25,
      "outputs": [
        {
          "output_type": "stream",
          "text": "https://westcentralus.api.cognitive.microsoft.com/text/analytics/v2.0/sentiment\n",
          "name": "stdout"
        }
      ]
    },
    {
      "metadata": {
        "trusted": true
      },
      "cell_type": "code",
      "source": "documents = {'documents' : [\n  {'id': '1', 'language': 'en', 'text': 'Youre awful! Why would you even bother posting. Go away.'},\n  {'id': '2', 'language': 'en', 'text': 'Thanks for sharing your opinion!'}, \n  {'id': '3', 'language': 'en', 'text': 'I dont agree with you, but I think we can work something out.'},\n]}\n\n# call API to pull in from Reddit - etc.",
      "execution_count": 26,
      "outputs": []
    },
    {
      "metadata": {
        "trusted": true
      },
      "cell_type": "code",
      "source": "headers   = {\"Ocp-Apim-Subscription-Key\": subscription_key}\nresponse  = requests.post(sentiment_api_url, headers=headers, json=documents)\nsentiments = response.json()\nprint(sentiments)",
      "execution_count": 27,
      "outputs": [
        {
          "output_type": "stream",
          "text": "{'documents': [{'score': 0.06183943152427673, 'id': '1'}, {'score': 0.9842249155044556, 'id': '2'}, {'score': 0.7772971391677856, 'id': '3'}], 'errors': []}\n",
          "name": "stdout"
        }
      ]
    },
    {
      "metadata": {},
      "cell_type": "markdown",
      "source": "## Key phrases\n"
    },
    {
      "metadata": {
        "trusted": true
      },
      "cell_type": "code",
      "source": "key_phrase_api_url = text_analytics_base_url + \"/keyPhrases\"\nprint(key_phrase_api_url)",
      "execution_count": 29,
      "outputs": [
        {
          "output_type": "stream",
          "text": "https://westcentralus.api.cognitive.microsoft.com/text/analytics/v2.0/keyPhrases\n",
          "name": "stdout"
        }
      ]
    },
    {
      "metadata": {
        "trusted": true
      },
      "cell_type": "code",
      "source": "headers   = {'Ocp-Apim-Subscription-Key': subscription_key}\nresponse  = requests.post(key_phrase_api_url, headers=headers, json=documents)\nkey_phrases = response.json()\nprint(key_phrases)",
      "execution_count": 30,
      "outputs": [
        {
          "output_type": "stream",
          "text": "{'documents': [{'keyPhrases': ['Youre awful'], 'id': '1'}, {'keyPhrases': ['Thanks', 'opinion'], 'id': '2'}, {'keyPhrases': ['dont'], 'id': '3'}], 'errors': []}\n",
          "name": "stdout"
        }
      ]
    },
    {
      "metadata": {
        "trusted": true
      },
      "cell_type": "code",
      "source": "",
      "execution_count": null,
      "outputs": []
    }
  ],
  "metadata": {
    "kernelspec": {
      "name": "python3",
      "display_name": "Python 3",
      "language": "python"
    },
    "language_info": {
      "mimetype": "text/x-python",
      "nbconvert_exporter": "python",
      "name": "python",
      "file_extension": ".py",
      "version": "3.5.4",
      "pygments_lexer": "ipython3",
      "codemirror_mode": {
        "version": 3,
        "name": "ipython"
      }
    }
  },
  "nbformat": 4,
  "nbformat_minor": 2
}