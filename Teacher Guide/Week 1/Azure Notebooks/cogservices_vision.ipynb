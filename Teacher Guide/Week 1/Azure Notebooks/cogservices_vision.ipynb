{
  "cells": [
    {
      "metadata": {},
      "cell_type": "markdown",
      "source": "\n\n\n# Detecting animals with cognitive services \n## Detecting Coral Reefs and Scuba Diving Imagery\n\n### Background\n\nThis proof of concept will be focused on detecting corals, scuba diving equipment, and other reef-related images located in user-defined geospatial locations. We will also explore a potential edge case with skydiving, as colors and gear visually is similar to scuba diving.\n\n#### First Image: Coral Reef \n\nOur first image is very obviously a photo of a coral reef with wildlife and fish.\n\n![](https://timeincsecure-a.akamaihd.net/rtmp_uds/293884104/201703/2681/293884104_5360456295001_5360434467001-vs.jpg?pubId=293884104&videoId=5360434467001)\n"
    },
    {
      "metadata": {
        "trusted": true
      },
      "cell_type": "code",
      "source": "# Define the Subscription key for making API calls.\nsecret = '0c8c278e1bad46718c660c572220e6b5'",
      "execution_count": 1,
      "outputs": []
    },
    {
      "metadata": {
        "trusted": true
      },
      "cell_type": "code",
      "source": "# Import required libraries for request headers and json extraction.\nimport http.client, urllib.request, urllib.parse, urllib.error, base64, json\n\n# Replace the subscription_key string value with your valid subscription key.\nsubscription_key = secret\n\n# Replace to match your region.\n\nuri_base = 'westcentralus.api.cognitive.microsoft.com'\n\nheaders = {\n    # Request headers.\n    'Content-Type': 'application/json',\n    'Ocp-Apim-Subscription-Key': subscription_key,\n}\n\nparams = urllib.parse.urlencode({\n    # Request parameters. All of them are optional.\n    'visualFeatures': 'Description,Color,Tags',\n    'language': 'en',\n})",
      "execution_count": 2,
      "outputs": []
    },
    {
      "metadata": {
        "trusted": true
      },
      "cell_type": "code",
      "source": "body = \"{'url':'https://timeincsecure-a.akamaihd.net/rtmp_uds/293884104/201703/2681/293884104_5360456295001_5360434467001-vs.jpg?pubId=293884104&videoId=5360434467001'}\"\n\ntry:\n    # Execute the REST API call and get the response.\n    conn = http.client.HTTPSConnection('westcentralus.api.cognitive.microsoft.com')\n    conn.request(\"POST\", \"/vision/v1.0/analyze?%s\" % params, body, headers)\n    response = conn.getresponse()\n    data = response.read()\n\n    # 'data' contains the JSON data. The following formats the JSON data for display.\n    parsed = json.loads(data.decode())\n    print (\"Response:\")\n    print (json.dumps(parsed, sort_keys=True, indent=2))\n    conn.close()\n\nexcept Exception as e:\n    print('Error:')\n    print(e)\n\n##################################",
      "execution_count": 3,
      "outputs": [
        {
          "output_type": "stream",
          "text": "Response:\n{\n  \"color\": {\n    \"accentColor\": \"048AC7\",\n    \"dominantColorBackground\": \"Brown\",\n    \"dominantColorForeground\": \"Brown\",\n    \"dominantColors\": [],\n    \"isBWImg\": false,\n    \"isBwImg\": false\n  },\n  \"description\": {\n    \"captions\": [\n      {\n        \"confidence\": 0.26692594483388654,\n        \"text\": \"a group of colorful underwater\"\n      }\n    ],\n    \"tags\": [\n      \"nature\",\n      \"covered\",\n      \"colorful\",\n      \"orange\",\n      \"reef\",\n      \"lot\",\n      \"colored\",\n      \"many\",\n      \"sitting\",\n      \"table\",\n      \"surrounded\",\n      \"painted\",\n      \"colors\",\n      \"fire\",\n      \"old\",\n      \"field\",\n      \"water\",\n      \"large\",\n      \"group\",\n      \"underwater\",\n      \"blue\",\n      \"display\",\n      \"room\",\n      \"hydrant\",\n      \"umbrella\",\n      \"people\",\n      \"standing\",\n      \"street\",\n      \"white\"\n    ]\n  },\n  \"metadata\": {\n    \"format\": \"Jpeg\",\n    \"height\": 720,\n    \"width\": 1280\n  },\n  \"requestId\": \"87389d70-e49d-4e96-8b8b-a4f1b5218e8f\",\n  \"tags\": [\n    {\n      \"confidence\": 0.8286102414131165,\n      \"name\": \"nature\"\n    },\n    {\n      \"confidence\": 0.4742690324783325,\n      \"name\": \"colorful\"\n    },\n    {\n      \"confidence\": 0.4733332097530365,\n      \"name\": \"orange\"\n    },\n    {\n      \"confidence\": 0.3992878496646881,\n      \"name\": \"reef\"\n    },\n    {\n      \"confidence\": 0.2842053174972534,\n      \"name\": \"colored\"\n    },\n    {\n      \"confidence\": 0.19803112745285034,\n      \"name\": \"surrounded\"\n    },\n    {\n      \"confidence\": 0.1796545833349228,\n      \"name\": \"painted\"\n    },\n    {\n      \"confidence\": 0.1796545833349228,\n      \"name\": \"diving\"\n    },\n    {\n      \"confidence\": 0.14117491033168522,\n      \"name\": \"fish\"\n    },\n    {\n      \"confidence\": 0.08242005318624891,\n      \"name\": \"underwater\"\n    },\n    {\n      \"confidence\": 0.038131751863420514,\n      \"name\": \"coral\"\n    },\n    {\n      \"confidence\": 0.03174486947404605,\n      \"name\": \"scuba\"\n    },\n    {\n      \"confidence\": 0.01760743394987518,\n      \"name\": \"aquarium\"\n    },\n    {\n      \"confidence\": 0.017238477672034624,\n      \"name\": \"water\"\n    }\n  ]\n}\n",
          "name": "stdout"
        }
      ]
    },
    {
      "metadata": {},
      "cell_type": "markdown",
      "source": "The keyword `reef` is included in the JSON response that we obtain from Cognitive Services. To extract similar images from your corpus of files, you would first filter by geospatial location and then search for `reef` in Cognitive Services JSON responses."
    },
    {
      "metadata": {},
      "cell_type": "markdown",
      "source": "#### Second Image: Scuba Diver\n\n![](https://www.deeperblue.com/wp-content/uploads/2016/03/AdobeStock_62701813.jpeg)"
    },
    {
      "metadata": {
        "trusted": true
      },
      "cell_type": "code",
      "source": "body = \"{'url':'https://www.deeperblue.com/wp-content/uploads/2016/03/AdobeStock_62701813.jpeg'}\"\n\ntry:\n    # Execute the REST API call and get the response.\n    conn = http.client.HTTPSConnection('westcentralus.api.cognitive.microsoft.com')\n    conn.request(\"POST\", \"/vision/v1.0/analyze?%s\" % params, body, headers)\n    response = conn.getresponse()\n    data = response.read()\n\n    # 'data' contains the JSON data. The following formats the JSON data for display.\n    parsed = json.loads(data.decode())\n    print (\"Response:\")\n    print (json.dumps(parsed, sort_keys=True, indent=2))\n    conn.close()\n\nexcept Exception as e:\n    print('Error:')\n    print(e)\n\n####################################",
      "execution_count": 8,
      "outputs": [
        {
          "output_type": "stream",
          "text": "Response:\n{\n  \"color\": {\n    \"accentColor\": \"016BCA\",\n    \"dominantColorBackground\": \"Blue\",\n    \"dominantColorForeground\": \"Blue\",\n    \"dominantColors\": [\n      \"Blue\"\n    ],\n    \"isBWImg\": false,\n    \"isBwImg\": false\n  },\n  \"description\": {\n    \"captions\": [\n      {\n        \"confidence\": 0.36200742539912,\n        \"text\": \"a statue of a person in a swimming pool\"\n      }\n    ],\n    \"tags\": [\n      \"sport\",\n      \"swimming\",\n      \"statue\",\n      \"water\",\n      \"small\",\n      \"sitting\",\n      \"air\",\n      \"man\",\n      \"holding\",\n      \"flying\",\n      \"yellow\",\n      \"riding\",\n      \"boat\",\n      \"blue\"\n    ]\n  },\n  \"metadata\": {\n    \"format\": \"Jpeg\",\n    \"height\": 3456,\n    \"width\": 5184\n  },\n  \"requestId\": \"eeb07502-504d-4194-93f3-b36681114d11\",\n  \"tags\": [\n    {\n      \"confidence\": 0.9971852898597717,\n      \"name\": \"sky\"\n    },\n    {\n      \"confidence\": 0.9742870926856995,\n      \"name\": \"sport\"\n    },\n    {\n      \"confidence\": 0.9645830988883972,\n      \"hint\": \"sport\",\n      \"name\": \"swimming\"\n    },\n    {\n      \"confidence\": 0.9560803771018982,\n      \"hint\": \"sport\",\n      \"name\": \"water sport\"\n    },\n    {\n      \"confidence\": 0.4591835141181946,\n      \"name\": \"statue\"\n    },\n    {\n      \"confidence\": 0.013368663378059864,\n      \"name\": \"ocean floor\"\n    },\n    {\n      \"confidence\": 0.013368663378059864,\n      \"name\": \"diving\"\n    },\n    {\n      \"confidence\": 0.0017262519494773178,\n      \"name\": \"scuba\"\n    },\n    {\n      \"confidence\": 0.0007730008533423854,\n      \"name\": \"underwater\"\n    }\n  ]\n}\n",
          "name": "stdout"
        }
      ]
    },
    {
      "metadata": {},
      "cell_type": "markdown",
      "source": "This second image is not as straightforward to parse; however, you would be able to deduce that this is a scuba diving photo by searching through geospatially-filtered JSON responses for `water sport` and `swimming`."
    },
    {
      "metadata": {},
      "cell_type": "markdown",
      "source": "#### Image 3: Scuba Diving\n\n![](http://www2.padi.com/blog/wp-content/uploads/2016/10/scuba-diving-reef-e1476482719834.jpg)\n"
    },
    {
      "metadata": {
        "trusted": true
      },
      "cell_type": "code",
      "source": "body = \"{'url':'http://www2.padi.com/blog/wp-content/uploads/2016/10/scuba-diving-reef-e1476482719834.jpg'}\"\n\ntry:\n    # Execute the REST API call and get the response.\n    conn = http.client.HTTPSConnection('westcentralus.api.cognitive.microsoft.com')\n    conn.request(\"POST\", \"/vision/v1.0/analyze?%s\" % params, body, headers)\n    response = conn.getresponse()\n    data = response.read()\n\n    # 'data' contains the JSON data. The following formats the JSON data for display.\n    parsed = json.loads(data.decode())\n    print (\"Response:\")\n    print (json.dumps(parsed, sort_keys=True, indent=2))\n    conn.close()\n\nexcept Exception as e:\n    print('Error:')\n    print(e)\n\n####################################",
      "execution_count": 9,
      "outputs": [
        {
          "output_type": "stream",
          "text": "Response:\n{\n  \"color\": {\n    \"accentColor\": \"0143C6\",\n    \"dominantColorBackground\": \"Blue\",\n    \"dominantColorForeground\": \"Blue\",\n    \"dominantColors\": [\n      \"Blue\"\n    ],\n    \"isBWImg\": false,\n    \"isBwImg\": false\n  },\n  \"description\": {\n    \"captions\": [\n      {\n        \"confidence\": 0.36046533167245803,\n        \"text\": \"a group of people in a swimming pool\"\n      }\n    ],\n    \"tags\": [\n      \"swimming\",\n      \"sitting\",\n      \"table\",\n      \"laptop\",\n      \"man\",\n      \"orange\",\n      \"woman\",\n      \"colorful\",\n      \"group\",\n      \"computer\",\n      \"many\",\n      \"people\",\n      \"holding\",\n      \"blue\",\n      \"water\",\n      \"large\",\n      \"standing\",\n      \"display\",\n      \"underwater\"\n    ]\n  },\n  \"metadata\": {\n    \"format\": \"Jpeg\",\n    \"height\": 465,\n    \"width\": 995\n  },\n  \"requestId\": \"ca08db6c-d963-4717-b17c-96ebb3382422\",\n  \"tags\": [\n    {\n      \"confidence\": 0.7886990904808044,\n      \"name\": \"sport\"\n    },\n    {\n      \"confidence\": 0.5646589398384094,\n      \"hint\": \"sport\",\n      \"name\": \"swimming\"\n    },\n    {\n      \"confidence\": 0.01377988699823618,\n      \"name\": \"ocean floor\"\n    },\n    {\n      \"confidence\": 0.01377988699823618,\n      \"name\": \"diving\"\n    },\n    {\n      \"confidence\": 0.003929365646038524,\n      \"name\": \"scuba\"\n    },\n    {\n      \"confidence\": 0.0010617915416973045,\n      \"name\": \"underwater\"\n    },\n    {\n      \"confidence\": 0.0008907436760358837,\n      \"name\": \"fish\"\n    },\n    {\n      \"confidence\": 0.0008395650733196095,\n      \"name\": \"snorkeling\"\n    }\n  ]\n}\n",
          "name": "stdout"
        }
      ]
    },
    {
      "metadata": {},
      "cell_type": "markdown",
      "source": "The results are similar to the previous image, with the addition of `ocean floor`, slightly higher confidence on `underwater`, and moderate confidence on `swimming`."
    },
    {
      "metadata": {},
      "cell_type": "markdown",
      "source": "#### Image 4: Skydabbing\n\n![](https://pbs.twimg.com/media/ClQSCsgUgAA_i3B.jpg)\n"
    },
    {
      "metadata": {
        "trusted": true
      },
      "cell_type": "code",
      "source": "body = \"{'url':'https://pbs.twimg.com/media/ClQSCsgUgAA_i3B.jpg'}\"\n\ntry:\n    # Execute the REST API call and get the response.\n    conn = http.client.HTTPSConnection('westcentralus.api.cognitive.microsoft.com')\n    conn.request(\"POST\", \"/vision/v1.0/analyze?%s\" % params, body, headers)\n    response = conn.getresponse()\n    data = response.read()\n\n    # 'data' contains the JSON data. The following formats the JSON data for display.\n    parsed = json.loads(data.decode())\n    print (\"Response:\")\n    print (json.dumps(parsed, sort_keys=True, indent=2))\n    conn.close()\n\nexcept Exception as e:\n    print('Error:')\n    print(e)\n\n####################################",
      "execution_count": 6,
      "outputs": [
        {
          "output_type": "stream",
          "text": "Response:\n{\n  \"color\": {\n    \"accentColor\": \"2C497D\",\n    \"dominantColorBackground\": \"Grey\",\n    \"dominantColorForeground\": \"Blue\",\n    \"dominantColors\": [\n      \"Grey\",\n      \"Blue\"\n    ],\n    \"isBWImg\": false,\n    \"isBwImg\": false\n  },\n  \"description\": {\n    \"captions\": [\n      {\n        \"confidence\": 0.931517660727122,\n        \"text\": \"a man flying through the air on a mountain\"\n      }\n    ],\n    \"tags\": [\n      \"outdoor\",\n      \"air\",\n      \"mountain\",\n      \"flying\",\n      \"man\",\n      \"view\",\n      \"jumping\",\n      \"high\",\n      \"snow\",\n      \"hill\",\n      \"plane\",\n      \"doing\",\n      \"airplane\",\n      \"water\",\n      \"riding\",\n      \"skiing\",\n      \"trick\",\n      \"board\",\n      \"city\",\n      \"ramp\"\n    ]\n  },\n  \"metadata\": {\n    \"format\": \"Jpeg\",\n    \"height\": 900,\n    \"width\": 1200\n  },\n  \"requestId\": \"8a601332-45e7-4849-9cee-ba5b75d4a1a6\",\n  \"tags\": [\n    {\n      \"confidence\": 0.9998109936714172,\n      \"name\": \"sky\"\n    },\n    {\n      \"confidence\": 0.9982977509498596,\n      \"name\": \"outdoor\"\n    },\n    {\n      \"confidence\": 0.9866004586219788,\n      \"name\": \"air\"\n    },\n    {\n      \"confidence\": 0.9714681506156921,\n      \"name\": \"mountain\"\n    },\n    {\n      \"confidence\": 0.928756833076477,\n      \"name\": \"flying\"\n    },\n    {\n      \"confidence\": 0.6914498805999756,\n      \"name\": \"nature\"\n    },\n    {\n      \"confidence\": 0.5503212213516235,\n      \"hint\": \"sport\",\n      \"name\": \"jumping\"\n    },\n    {\n      \"confidence\": 0.5327184796333313,\n      \"name\": \"high\"\n    },\n    {\n      \"confidence\": 0.17610660195350647,\n      \"name\": \"land\"\n    },\n    {\n      \"confidence\": 0.1534597064720018,\n      \"name\": \"skydiving\"\n    },\n    {\n      \"confidence\": 0.10756200583609149,\n      \"name\": \"jump\"\n    },\n    {\n      \"confidence\": 0.09577315535118522,\n      \"name\": \"aerial\"\n    }\n  ]\n}\n",
          "name": "stdout"
        }
      ]
    },
    {
      "metadata": {
        "trusted": true
      },
      "cell_type": "markdown",
      "source": "Our final test image would be a potential edge case, as skydiving and scuba diving are very visually similar. The description is \"a man flying through the air on a mountain\", so Cognitive Services detects this as an aerial photo with high confidence but is not versed in hip-hop dance moves, which block the diver's face, making it difficult to determine whether this is a male or female. The service has trouble identifying a horizon, calling it a \"mountain\". "
    }
  ],
  "metadata": {
    "kernelspec": {
      "name": "python3",
      "display_name": "Python 3",
      "language": "python"
    },
    "language_info": {
      "mimetype": "text/x-python",
      "nbconvert_exporter": "python",
      "name": "python",
      "pygments_lexer": "ipython3",
      "version": "3.5.4",
      "file_extension": ".py",
      "codemirror_mode": {
        "version": 3,
        "name": "ipython"
      }
    }
  },
  "nbformat": 4,
  "nbformat_minor": 2
}