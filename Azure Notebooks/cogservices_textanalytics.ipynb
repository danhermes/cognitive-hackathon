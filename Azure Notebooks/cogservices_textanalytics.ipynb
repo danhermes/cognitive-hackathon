{
  "cells": [
    {
      "metadata": {},
      "cell_type": "markdown",
      "source": "# Cognitive Hackathon: Text Analytics Cognitive Service\n## Overview\nComprehension of text is one of the key challenges in helping machines talk to people. Here are a few examples of those efforts.\n<br>\n### Assign license key and base_url"
    },
    {
      "metadata": {
        "trusted": true
      },
      "cell_type": "code",
      "source": "import requests\n\nsubscription_key = '5cf0471cf8234518b8db1641fba738db'\ntext_analytics_base_url = \"https://westcentralus.api.cognitive.microsoft.com/text/analytics/v2.0\"",
      "execution_count": 1,
      "outputs": []
    },
    {
      "metadata": {},
      "cell_type": "markdown",
      "source": "<br>\n## Sentiment analysis\nText parsers can help our apps to guess at what text says, but equally as important is how is the speaker (or typer) feeling. There are lots of reasons why we might need to know if a person is feeling good or bad about the things they're communicating about, which is emotion or sentiment. This example shows how the Text Analytics service does just that.\n\n### - Text can be parsed for meaning\n### - What about emotion/feeling?\n### - Text Analysis interprets emotion: good or bad\n<br>\n### Create the service URL"
    },
    {
      "metadata": {
        "trusted": true
      },
      "cell_type": "code",
      "source": "sentiment_api_url = text_analytics_base_url + \"/sentiment\"\nprint(sentiment_api_url)",
      "execution_count": 2,
      "outputs": [
        {
          "output_type": "stream",
          "text": "https://westcentralus.api.cognitive.microsoft.com/text/analytics/v2.0/sentiment\n",
          "name": "stdout"
        }
      ]
    },
    {
      "metadata": {},
      "cell_type": "markdown",
      "source": "<br>\n### Create the text data"
    },
    {
      "metadata": {
        "trusted": true
      },
      "cell_type": "code",
      "source": "documents = {'documents' : [\n  {'id': '1', 'language': 'en', 'text': 'Youre awful! Why would you even bother posting. Go away.'},\n  {'id': '2', 'language': 'en', 'text': 'Thanks for sharing your opinion!'}, \n  {'id': '3', 'language': 'en', 'text': 'I dont agree with you, but I think we can work something out.'},\n]}",
      "execution_count": 3,
      "outputs": []
    },
    {
      "metadata": {},
      "cell_type": "markdown",
      "source": "<br>\n### Call the text analysis service and return JSON"
    },
    {
      "metadata": {
        "trusted": true
      },
      "cell_type": "code",
      "source": "headers   = {\"Ocp-Apim-Subscription-Key\": subscription_key}\nresponse  = requests.post(sentiment_api_url, headers=headers, json=documents)\nsentiments = response.json()\nprint(sentiments)",
      "execution_count": 4,
      "outputs": [
        {
          "output_type": "stream",
          "text": "{'error': {'code': 'Unspecified', 'message': 'Access denied due to invalid subscription key. Make sure you are subscribed to an API you are trying to call and provide the right key.'}}\n",
          "name": "stdout"
        }
      ]
    },
    {
      "metadata": {},
      "cell_type": "markdown",
      "source": "Each block of text is analyzed by the text analytics service and a score returned. The score ranges from zero to one, which means from negative to positive.  Zero is negative. One is positive. Everything else is in between on a continuum.\n\n### - Each text string is assigned a score\n### - 0 is negative\n### - 1 is positive\n\n<br><br>"
    },
    {
      "metadata": {},
      "cell_type": "markdown",
      "source": "## Key phrases\nKnowing why a service arrived at a particular conclusion can be helpful.  This example reveals the key phrases that the text analytics service used to conclude its emotion scores.\n<br>\n### - How did Text Analytics guess the emotions?\n### - Get the key phrases used to decide\n<br>\n### Create the service URL"
    },
    {
      "metadata": {
        "trusted": true
      },
      "cell_type": "code",
      "source": "key_phrase_api_url = text_analytics_base_url + \"/keyPhrases\"\nprint(key_phrase_api_url)",
      "execution_count": 5,
      "outputs": [
        {
          "output_type": "stream",
          "text": "https://westcentralus.api.cognitive.microsoft.com/text/analytics/v2.0/keyPhrases\n",
          "name": "stdout"
        }
      ]
    },
    {
      "metadata": {},
      "cell_type": "markdown",
      "source": "<br>\n### Keep the text string data the same as before\n### Call the text analysis service and return JSON"
    },
    {
      "metadata": {
        "trusted": true
      },
      "cell_type": "code",
      "source": "headers   = {'Ocp-Apim-Subscription-Key': subscription_key}\nresponse  = requests.post(key_phrase_api_url, headers=headers, json=documents)\nkey_phrases = response.json()\nprint(key_phrases)",
      "execution_count": 6,
      "outputs": [
        {
          "output_type": "stream",
          "text": "{'error': {'code': 'Unspecified', 'message': 'Access denied due to invalid subscription key. Make sure you are subscribed to an API you are trying to call and provide the right key.'}}\n",
          "name": "stdout"
        }
      ]
    },
    {
      "metadata": {
        "trusted": true
      },
      "cell_type": "markdown",
      "source": "\"You're awful\" reflected a negative sentiment that led to a negative score, which makes sense. \"Thanks\" led to a positive score, as that key phrase reflected a positive sentiment. \"Don't\" was scored as moderately negative, but not entirely, which is a resonable conclusion.\n\n### - \"You're awful\" is negative\n### - \"Thanks\" is positive\n### - \"Don't\" is in between but leaning on the negative side\n\n##  These guesses were all spot on"
    },
    {
      "metadata": {
        "trusted": true
      },
      "cell_type": "code",
      "source": "",
      "execution_count": null,
      "outputs": []
    }
  ],
  "metadata": {
    "kernelspec": {
      "name": "python3",
      "display_name": "Python 3",
      "language": "python"
    },
    "language_info": {
      "mimetype": "text/x-python",
      "nbconvert_exporter": "python",
      "name": "python",
      "pygments_lexer": "ipython3",
      "version": "3.5.4",
      "file_extension": ".py",
      "codemirror_mode": {
        "version": 3,
        "name": "ipython"
      }
    }
  },
  "nbformat": 4,
  "nbformat_minor": 2
}