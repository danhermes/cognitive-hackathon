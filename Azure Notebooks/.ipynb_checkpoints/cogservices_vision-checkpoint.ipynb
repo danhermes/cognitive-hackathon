{
  "cells": [
    {
      "metadata": {},
      "cell_type": "markdown",
      "source": "\n\n\n# Computer Vision Cognitive Services\n## Detecting Coral Reefs and Scuba Diving Imagery\n\n### Overview\n\nHere we'll run a few examples of the Computer Vision cognitive service, that tries to view and recognize objects, environments, people, and activities in an image. This proof of concept will be focused on detecting corals, scuba diving equipment, and other reef-related images. We will also explore a similar example of skydiving, perhaps challenging to the service since the colors and gear visually is similar to scuba diving, and both the sky and sea are blue. These service calls return JSON contains tags with the services guesses which are each accompanied by a confidence level.\n\n**IMPORTANT**: Remember to enter your *API key* (secret) and *uri_base* that correspond to your own cognitive service license in the code below so your service calls will succeed.\n\n### - Computer Vision cognitive service\n### - Detect objects and activity in underwater setting\n### - Calls are assigned Tags and Confidences\n<br><br><br>\n\n## First Image: Coral Reef \n\nOur first image is obviously a photo of a coral reef with wildlife and fish.\n\n<br><br>\n![](https://timeincsecure-a.akamaihd.net/rtmp_uds/293884104/201703/2681/293884104_5360456295001_5360434467001-vs.jpg?pubId=293884104&videoId=5360434467001)\n"
    },
    {
      "metadata": {},
      "cell_type": "markdown",
      "source": "<br><br><br>\n### Assign license key"
    },
    {
      "metadata": {
        "trusted": true
      },
      "cell_type": "code",
      "source": "# Define the Subscription key for making API calls.\nsecret = '0c8c278e1bad46718c660c572220e6b5'",
      "execution_count": 1,
      "outputs": []
    },
    {
      "metadata": {},
      "cell_type": "markdown",
      "source": "<br><br><br>\n### Import required libraries\n### Replace uri_base with your region\n### Choose parameters for API call"
    },
    {
      "metadata": {
        "trusted": true
      },
      "cell_type": "code",
      "source": "# Import required libraries for request headers and json extraction.\nimport http.client, urllib.request, urllib.parse, urllib.error, base64, json\n\n# Replace the subscription_key string value with your valid subscription key.\nsubscription_key = secret\n\n# Replace to match your region.\n\nuri_base = 'westcentralus.api.cognitive.microsoft.com'\n\nheaders = {\n    # Request headers.\n    'Content-Type': 'application/json',\n    'Ocp-Apim-Subscription-Key': subscription_key,\n}\n\nparams = urllib.parse.urlencode({\n    # Request parameters. All of them are optional.\n    'visualFeatures': 'Description,Color,Tags',\n    'language': 'en',\n})",
      "execution_count": 2,
      "outputs": []
    },
    {
      "metadata": {},
      "cell_type": "markdown",
      "source": "<br><br><br>\n### Set image to \"body\"\n### Call cognitive service API\n### Return JSON response"
    },
    {
      "metadata": {
        "trusted": true
      },
      "cell_type": "code",
      "source": "body = \"{'url':'https://timeincsecure-a.akamaihd.net/rtmp_uds/293884104/201703/2681/293884104_5360456295001_5360434467001-vs.jpg?pubId=293884104&videoId=5360434467001'}\"\n\ntry:\n    # Execute the REST API call and get the response.\n    conn = http.client.HTTPSConnection('westcentralus.api.cognitive.microsoft.com')\n    conn.request(\"POST\", \"/vision/v1.0/analyze?%s\" % params, body, headers)\n    response = conn.getresponse()\n    data = response.read()\n\n    # 'data' contains the JSON data. The following formats the JSON data for display.\n    parsed = json.loads(data.decode())\n    print (\"Response:\")\n    print (json.dumps(parsed, sort_keys=True, indent=2))\n    conn.close()\n\nexcept Exception as e:\n    print('Error:')\n    print(e)\n\n##################################",
      "execution_count": 3,
      "outputs": [
        {
          "output_type": "stream",
          "text": "Response:\n{\n  \"error\": {\n    \"code\": \"Unspecified\",\n    \"message\": \"Access denied due to invalid subscription key. Make sure you are subscribed to an API you are trying to call and provide the right key.\"\n  }\n}\n",
          "name": "stdout"
        }
      ]
    },
    {
      "metadata": {},
      "cell_type": "markdown",
      "source": "<br><br><br>\nThe cognitive service understands that this is a colorful, orange, reef that may involve diving and fish with the description \"a group of colorful underwater\".  Look at the confidence values for each tag in the JSON.\n\n<br><br>\n\n### - Keywords and confidence values\n### - PROBABLY a colorful, orange, reef\n### - MAYBE diving and fish\n<br><br><br><br><br><br><br>"
    },
    {
      "metadata": {},
      "cell_type": "markdown",
      "source": "## Second Image: Scuba Diver\n\n### A second underwater image, of a diver this time\n<br><br>\n![](https://www.deeperblue.com/wp-content/uploads/2016/03/AdobeStock_62701813.jpeg)\n<br><br><br>"
    },
    {
      "metadata": {
        "trusted": true
      },
      "cell_type": "code",
      "source": "### Set new image of diver\n### Call cognitive service API\n### Return JSON response",
      "execution_count": 4,
      "outputs": []
    },
    {
      "metadata": {
        "trusted": true
      },
      "cell_type": "code",
      "source": "body = \"{'url':'https://www.deeperblue.com/wp-content/uploads/2016/03/AdobeStock_62701813.jpeg'}\"\n\ntry:\n    # Execute the REST API call and get the response.\n    conn = http.client.HTTPSConnection('westcentralus.api.cognitive.microsoft.com')\n    conn.request(\"POST\", \"/vision/v1.0/analyze?%s\" % params, body, headers)\n    response = conn.getresponse()\n    data = response.read()\n\n    # 'data' contains the JSON data. The following formats the JSON data for display.\n    parsed = json.loads(data.decode())\n    print (\"Response:\")\n    print (json.dumps(parsed, sort_keys=True, indent=2))\n    conn.close()\n\nexcept Exception as e:\n    print('Error:')\n    print(e)\n\n####################################",
      "execution_count": 5,
      "outputs": [
        {
          "output_type": "stream",
          "text": "Response:\n{\n  \"error\": {\n    \"code\": \"Unspecified\",\n    \"message\": \"Access denied due to invalid subscription key. Make sure you are subscribed to an API you are trying to call and provide the right key.\"\n  }\n}\n",
          "name": "stdout"
        }
      ]
    },
    {
      "metadata": {},
      "cell_type": "markdown",
      "source": "<br><br><br>\nThe cognitive service has more difficulty with this image, describing it as \"a statue of a person in a swimming pool\".  It comprehends that there is swimming and a sport involved. Ocean floor, diving, and scuba are tags that received a low confidence when they should have been high, so the API didn't guess this one very well. Look at the confidence values for each term in the JSON.\n<br><br>\n### - This API call returned a less accurate result\n### - \"a statue of a person in a swimming pool\"\n### - Ocean floor, diving, and scuba tags all less than 2% confidence!\n\n<br><br><br><br><br><br>"
    },
    {
      "metadata": {},
      "cell_type": "markdown",
      "source": "## Image 3: Scuba Diving\n\n### Another scuba diving image\n<br><br>\n![](http://www2.padi.com/blog/wp-content/uploads/2016/10/scuba-diving-reef-e1476482719834.jpg)\n<br><br><br>"
    },
    {
      "metadata": {
        "trusted": true
      },
      "cell_type": "code",
      "source": "### Set next image of diver\n### Call cognitive service API\n### Return JSON response",
      "execution_count": 6,
      "outputs": []
    },
    {
      "metadata": {
        "trusted": true
      },
      "cell_type": "code",
      "source": "body = \"{'url':'http://www2.padi.com/blog/wp-content/uploads/2016/10/scuba-diving-reef-e1476482719834.jpg'}\"\n\ntry:\n    # Execute the REST API call and get the response.\n    conn = http.client.HTTPSConnection('westcentralus.api.cognitive.microsoft.com')\n    conn.request(\"POST\", \"/vision/v1.0/analyze?%s\" % params, body, headers)\n    response = conn.getresponse()\n    data = response.read()\n\n    # 'data' contains the JSON data. The following formats the JSON data for display.\n    parsed = json.loads(data.decode())\n    print (\"Response:\")\n    print (json.dumps(parsed, sort_keys=True, indent=2))\n    conn.close()\n\nexcept Exception as e:\n    print('Error:')\n    print(e)\n\n####################################",
      "execution_count": 7,
      "outputs": [
        {
          "output_type": "stream",
          "text": "Response:\n{\n  \"error\": {\n    \"code\": \"Unspecified\",\n    \"message\": \"Access denied due to invalid subscription key. Make sure you are subscribed to an API you are trying to call and provide the right key.\"\n  }\n}\n",
          "name": "stdout"
        }
      ]
    },
    {
      "metadata": {},
      "cell_type": "markdown",
      "source": "<br><br><br>\nThe results are similar to the previous image, with less accuracy. There is a slightly higher confidence on `underwater`, but lowered confidence on `swimming` and 'ocean floor'. The description is 'a group of people in a swimming pool'. One of the largest software companies in the world built these services, leading us to believe that cognitive services are hard to build.\n<br><br>\n### - Even less accurate\n### - \"a group of people in a swimming pool\"\n### - Conclusion: Cognitive services are hard\n\n<br><br><br><br><br><br>"
    },
    {
      "metadata": {},
      "cell_type": "markdown",
      "source": "## Image 4: Skydabbing\n\n### Skydiving image\n\nSkydiving is visually similar to scuba diving, and both the sky and sea are blue, which could also pose a challenge to the service's cognition, so let's see how the computer vision service does in the sky. \n<br><br>\n\n![](https://pbs.twimg.com/media/ClQSCsgUgAA_i3B.jpg)\n\n<br><br><br>"
    },
    {
      "metadata": {},
      "cell_type": "markdown",
      "source": "### Set image of skydiver\n### Call cognitive service API\n### Return JSON response"
    },
    {
      "metadata": {
        "trusted": true
      },
      "cell_type": "code",
      "source": "body = \"{'url':'https://pbs.twimg.com/media/ClQSCsgUgAA_i3B.jpg'}\"\n\ntry:\n    # Execute the REST API call and get the response.\n    conn = http.client.HTTPSConnection('westcentralus.api.cognitive.microsoft.com')\n    conn.request(\"POST\", \"/vision/v1.0/analyze?%s\" % params, body, headers)\n    response = conn.getresponse()\n    data = response.read()\n\n    # 'data' contains the JSON data. The following formats the JSON data for display.\n    parsed = json.loads(data.decode())\n    print (\"Response:\")\n    print (json.dumps(parsed, sort_keys=True, indent=2))\n    conn.close()\n\nexcept Exception as e:\n    print('Error:')\n    print(e)\n\n####################################",
      "execution_count": 8,
      "outputs": [
        {
          "output_type": "stream",
          "text": "Response:\n{\n  \"error\": {\n    \"code\": \"Unspecified\",\n    \"message\": \"Access denied due to invalid subscription key. Make sure you are subscribed to an API you are trying to call and provide the right key.\"\n  }\n}\n",
          "name": "stdout"
        }
      ]
    },
    {
      "metadata": {
        "trusted": true
      },
      "cell_type": "markdown",
      "source": "<br><br><br>\nThe service nails the location with a high confidence on 'air', 'sky' and 'outdoor'.  The addition of 'mountain' is likely due to the slanted horizon, a tough call unless you know that this is skydiving, and 'skydiving' and 'jump' are down around 10-15%. The description is \"a man flying through the air on a mountain\", so cognitive services detects this as an aerial photo with high confidence but is not versed in hip-hop dance moves, which block the diver's face, making it difficult to determine whether this is a male or female. \n<br><br>\n### - Service understands that the image is in the sky\n### - Misinterprets horizon for 'mountain'\n### - 'a man flying through the air on a mountain'\n### - The diver's dance moves obscure her face\n\n<br><br>"
    },
    {
      "metadata": {
        "trusted": true
      },
      "cell_type": "code",
      "source": "",
      "execution_count": null,
      "outputs": []
    }
  ],
  "metadata": {
    "kernelspec": {
      "name": "python3",
      "display_name": "Python 3",
      "language": "python"
    },
    "language_info": {
      "mimetype": "text/x-python",
      "nbconvert_exporter": "python",
      "name": "python",
      "file_extension": ".py",
      "version": "3.5.4",
      "pygments_lexer": "ipython3",
      "codemirror_mode": {
        "version": 3,
        "name": "ipython"
      }
    }
  },
  "nbformat": 4,
  "nbformat_minor": 2
}